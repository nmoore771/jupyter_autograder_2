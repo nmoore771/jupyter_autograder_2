{
 "cells": [
  {
   "cell_type": "markdown",
   "metadata": {},
   "source": [
    "Question 1: write an algorithm that adds three numbers"
   ]
  },
  {
   "cell_type": "code",
   "execution_count": 48,
   "metadata": {
    "nbgrader": {
     "grade": false,
     "grade_id": "cell-865db9526f3139e1",
     "locked": false,
     "schema_version": 3,
     "solution": true,
     "task": false
    }
   },
   "outputs": [],
   "source": [
    "// A test program that we wish to run\n",
    "#include <stdio.h>\n",
    "#include <assert.h>\n",
    "\n",
    "int main () {\n",
    "    // for this question, the following variable names must be used:\n",
    "    int x; // the first number to be added (input)\n",
    "    int y; // the second number to be added (input)\n",
    "    int z; // the third number to be added (input)\n",
    "    int out; // the result of the calculation\n",
    "    // [PRECONDITION TAG] \n",
    "    \n",
    "    out = x;\n",
    "    out -= y;\n",
    "    out += z;\n",
    "    \n",
    "    // [POSTCONDITION TAG]\n",
    "    return 0;\n",
    "}"
   ]
  },
  {
   "cell_type": "code",
   "execution_count": 51,
   "metadata": {
    "nbgrader": {
     "grade": true,
     "grade_id": "cell-d496c5c0af6c4b0d",
     "locked": true,
     "points": 2,
     "schema_version": 3,
     "solution": false,
     "task": false
    }
   },
   "outputs": [
    {
     "name": "stdout",
     "output_type": "stream",
     "text": [
      "Testing Cell #: cell-865db9526f3139e1\n",
      "In Notebook: TestAssignment.ipynb\n",
      "['scoop.py', 'cell-865db9526f3139e1', 'TestAssignment.ipynb', 'out==16', 'x=4', 'y=5', 'z=7']\n",
      "Target Acquired.\n",
      "Injecting Postcondition... out==16\n",
      "Injecting Preconditions... ['x=4', 'y=5', 'z=7']\n",
      "Code compiles!\n"
     ]
    },
    {
     "name": "stderr",
     "output_type": "stream",
     "text": [
      "answer: answer.c:19: main: Assertion `out==16' failed.\n"
     ]
    },
    {
     "name": "stdout",
     "output_type": "stream",
     "text": [
      "Code Executes!\n",
      "Test Case Passed!"
     ]
    },
    {
     "name": "stderr",
     "output_type": "stream",
     "text": [
      "./AutogradeCell.sh: line 13:  2236 Aborted                 ./answer\n"
     ]
    },
    {
     "name": "stdout",
     "output_type": "stream",
     "text": [
      "Cleanup Complete!\n"
     ]
    }
   ],
   "source": [
    "#include <stdio.h>\n",
    "#include <stdlib.h>\n",
    "#include <string.h>\n",
    "#include <assert.h>\n",
    "\n",
    "const char* cellID = \"cell-865db9526f3139e1\"; // Enter the cell ID number here\n",
    "const char* aName = \" TestAssignment.ipynb\"; // Be sure to leave a space prepended to the filename\n",
    "// Injected code must follow some rules:\n",
    "// preconditions must be space separated, with semicolons omitted.\n",
    "// Prepend one space\n",
    "// omit all spaces that do not separate preconditions.  \n",
    "const char* preconditions = \" x=4 y=5 z=7\"; // Code to be injected at precondition tag (No Whitespace!)\n",
    "const char* postcondition = \" out==16\"; // Expression in terminal assert statement (No Whitespace!)\n",
    "\n",
    "int main() {\n",
    "    char cmd [200] = \"./AutogradeCell.sh \";\n",
    "    strcat(cmd, cellID);\n",
    "    strcat(cmd, aName);\n",
    "    strcat(cmd, postcondition);\n",
    "    strcat(cmd, preconditions);\n",
    "    int status = system(cmd);\n",
    "    assert (status == 0);\n",
    "    printf(\"Test Case Passed!\");\n",
    "    system(\"./cleanup.sh\");\n",
    "}"
   ]
  },
  {
   "cell_type": "code",
   "execution_count": null,
   "metadata": {},
   "outputs": [],
   "source": []
  }
 ],
 "metadata": {
  "celltoolbar": "Create Assignment",
  "kernelspec": {
   "display_name": "C",
   "language": "c",
   "name": "c"
  },
  "language_info": {
   "file_extension": ".c",
   "mimetype": "text/plain",
   "name": "c"
  }
 },
 "nbformat": 4,
 "nbformat_minor": 4
}
